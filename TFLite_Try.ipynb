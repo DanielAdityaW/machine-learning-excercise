{
  "nbformat": 4,
  "nbformat_minor": 0,
  "metadata": {
    "colab": {
      "name": "TFLite Try.ipynb",
      "provenance": []
    },
    "kernelspec": {
      "name": "python3",
      "display_name": "Python 3"
    },
    "language_info": {
      "name": "python"
    }
  },
  "cells": [
    {
      "cell_type": "code",
      "execution_count": null,
      "metadata": {
        "id": "piI7o4IK1b1u"
      },
      "outputs": [],
      "source": [
        "import numpy as np\n",
        "import tensorflow as tf"
      ]
    },
    {
      "cell_type": "code",
      "source": [
        "interpreter = tf.lite.Interpreter(model_path='/content/model.tflite')\n",
        "interpreter.allocate_tensors()  # Needed before execution!"
      ],
      "metadata": {
        "id": "PJhfnu2K4_ER"
      },
      "execution_count": null,
      "outputs": []
    },
    {
      "cell_type": "code",
      "source": [
        "input_details = interpreter.get_input_details()\n",
        "output_details = interpreter.get_output_details()"
      ],
      "metadata": {
        "id": "zwQpledf17Zp"
      },
      "execution_count": null,
      "outputs": []
    },
    {
      "cell_type": "code",
      "source": [
        "print(input_details)\n",
        "print(output_details)"
      ],
      "metadata": {
        "colab": {
          "base_uri": "https://localhost:8080/"
        },
        "id": "cdLCOsEr19t4",
        "outputId": "96b8b116-0815-456b-bec6-3d597c19ddbb"
      },
      "execution_count": null,
      "outputs": [
        {
          "output_type": "stream",
          "name": "stdout",
          "text": [
            "[{'name': 'serving_default_dropout_input:0', 'index': 0, 'shape': array([1, 1], dtype=int32), 'shape_signature': array([-1,  1], dtype=int32), 'dtype': <class 'numpy.float32'>, 'quantization': (0.0, 0), 'quantization_parameters': {'scales': array([], dtype=float32), 'zero_points': array([], dtype=int32), 'quantized_dimension': 0}, 'sparsity_parameters': {}}]\n",
            "[{'name': 'StatefulPartitionedCall:0', 'index': 3, 'shape': array([1, 1], dtype=int32), 'shape_signature': array([-1,  1], dtype=int32), 'dtype': <class 'numpy.float32'>, 'quantization': (0.0, 0), 'quantization_parameters': {'scales': array([], dtype=float32), 'zero_points': array([], dtype=int32), 'quantized_dimension': 0}, 'sparsity_parameters': {}}]\n"
          ]
        }
      ]
    },
    {
      "cell_type": "code",
      "source": [
        "output = interpreter.get_output_details()[0]  # Model has single output.\n",
        "input = interpreter.get_input_details()[0]  # Model has single input.\n",
        "input_data = tf.constant(1., shape=[1, 1])\n",
        "interpreter.set_tensor(input['index'], input_data)\n",
        "interpreter.invoke()\n",
        "interpreter.get_tensor(output['index']).shape"
      ],
      "metadata": {
        "colab": {
          "base_uri": "https://localhost:8080/"
        },
        "id": "IDE7wGdc5B_7",
        "outputId": "87815424-e09f-40b7-cf40-103ef18d126b"
      },
      "execution_count": null,
      "outputs": [
        {
          "output_type": "execute_result",
          "data": {
            "text/plain": [
              "(1, 1)"
            ]
          },
          "metadata": {},
          "execution_count": 5
        }
      ]
    },
    {
      "cell_type": "code",
      "source": [
        "# Test model on random input data.\n",
        "input_shape = input_details[0]['shape']\n",
        "# print(input_shape)\n",
        "input_data = np.array([[10]], dtype=np.float32)\n",
        "interpreter.set_tensor(input_details[0]['index'], input_data)\n",
        "\n",
        "interpreter.invoke()\n",
        "\n",
        "# The function `get_tensor()` returns a copy of the tensor data.\n",
        "# Use `tensor()` in order to get a pointer to the tensor.\n",
        "print(input_data)\n",
        "output_data = interpreter.get_tensor(output_details[0]['index'])\n",
        "print(output_data)"
      ],
      "metadata": {
        "colab": {
          "base_uri": "https://localhost:8080/"
        },
        "id": "H3YrajoG5idO",
        "outputId": "d8e997b6-a7a7-47df-fb07-c8d27bf8f8ce"
      },
      "execution_count": null,
      "outputs": [
        {
          "output_type": "stream",
          "name": "stdout",
          "text": [
            "[[10.]]\n",
            "[[10.846978]]\n"
          ]
        }
      ]
    },
    {
      "cell_type": "code",
      "source": [
        "print(type(output_data))\n",
        "print(type(input_data))"
      ],
      "metadata": {
        "colab": {
          "base_uri": "https://localhost:8080/"
        },
        "id": "9eneDK6F77cZ",
        "outputId": "032185e3-3099-4dec-ff90-71c2c6760009"
      },
      "execution_count": null,
      "outputs": [
        {
          "output_type": "stream",
          "name": "stdout",
          "text": [
            "<class 'numpy.ndarray'>\n",
            "<class 'numpy.ndarray'>\n"
          ]
        }
      ]
    },
    {
      "cell_type": "code",
      "source": [
        "x = np.array([[1.], [2.],[3.],[4.]])\n",
        "y = np.array([[2.], [4.], [6.], [8.]])\n",
        "model = tf.keras.models.Sequential([\n",
        "          tf.keras.layers.Dense(1),\n",
        "          tf.keras.layers.Dropout(0.2),\n",
        "          tf.keras.layers.Dense(units=1, input_shape=[1])\n",
        "        ])\n",
        "model.compile(optimizer='adam', loss='mean_squared_error')\n",
        "model.fit(x, y, epochs=10)\n",
        "converter = tf.lite.TFLiteConverter.from_keras_model(model)\n",
        "tflite_model = converter.convert()\n",
        "\n"
      ],
      "metadata": {
        "colab": {
          "base_uri": "https://localhost:8080/"
        },
        "id": "U3HkfnPH26qr",
        "outputId": "d609331e-045d-4ba8-bb60-6b519daad7f6"
      },
      "execution_count": null,
      "outputs": [
        {
          "output_type": "stream",
          "name": "stdout",
          "text": [
            "Epoch 1/10\n",
            "1/1 [==============================] - 0s 417ms/step - loss: 73.5378\n",
            "Epoch 2/10\n",
            "1/1 [==============================] - 0s 8ms/step - loss: 73.3941\n",
            "Epoch 3/10\n",
            "1/1 [==============================] - 0s 7ms/step - loss: 74.7392\n",
            "Epoch 4/10\n",
            "1/1 [==============================] - 0s 6ms/step - loss: 74.5896\n",
            "Epoch 5/10\n",
            "1/1 [==============================] - 0s 6ms/step - loss: 74.4401\n",
            "Epoch 6/10\n",
            "1/1 [==============================] - 0s 7ms/step - loss: 74.2910\n",
            "Epoch 7/10\n",
            "1/1 [==============================] - 0s 7ms/step - loss: 60.8815\n",
            "Epoch 8/10\n",
            "1/1 [==============================] - 0s 12ms/step - loss: 73.9965\n",
            "Epoch 9/10\n",
            "1/1 [==============================] - 0s 7ms/step - loss: 73.8503\n",
            "Epoch 10/10\n",
            "1/1 [==============================] - 0s 7ms/step - loss: 50.3170\n",
            "INFO:tensorflow:Assets written to: /tmp/tmpv56kg_mm/assets\n"
          ]
        },
        {
          "output_type": "stream",
          "name": "stderr",
          "text": [
            "INFO:tensorflow:Assets written to: /tmp/tmpv56kg_mm/assets\n",
            "WARNING:absl:Buffer deduplication procedure will be skipped when flatbuffer library is not properly loaded\n"
          ]
        }
      ]
    },
    {
      "cell_type": "code",
      "source": [
        "with open('model.tflite', 'wb') as f:\n",
        "  f.write(tflite_model)"
      ],
      "metadata": {
        "id": "GR3664524sgx"
      },
      "execution_count": null,
      "outputs": []
    },
    {
      "cell_type": "code",
      "source": [
        "print(output)"
      ],
      "metadata": {
        "colab": {
          "base_uri": "https://localhost:8080/"
        },
        "id": "SpXCmWdl5hLD",
        "outputId": "7a8b8cc7-63d9-46dd-8839-c4edfda3eb74"
      },
      "execution_count": null,
      "outputs": [
        {
          "output_type": "stream",
          "name": "stdout",
          "text": [
            "{'name': 'StatefulPartitionedCall:0', 'index': 3, 'shape': array([1, 1], dtype=int32), 'shape_signature': array([-1,  1], dtype=int32), 'dtype': <class 'numpy.float32'>, 'quantization': (0.0, 0), 'quantization_parameters': {'scales': array([], dtype=float32), 'zero_points': array([], dtype=int32), 'quantized_dimension': 0}, 'sparsity_parameters': {}}\n"
          ]
        }
      ]
    },
    {
      "cell_type": "code",
      "source": [
        ""
      ],
      "metadata": {
        "id": "CzVdOC8c6GAT"
      },
      "execution_count": null,
      "outputs": []
    }
  ]
}